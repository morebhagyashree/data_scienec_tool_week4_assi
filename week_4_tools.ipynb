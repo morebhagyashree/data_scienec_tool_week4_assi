{
  "metadata": {
    "language_info": {
      "codemirror_mode": {
        "name": "python",
        "version": 3
      },
      "file_extension": ".py",
      "mimetype": "text/x-python",
      "name": "python",
      "nbconvert_exporter": "python",
      "pygments_lexer": "ipython3",
      "version": "3.8"
    },
    "kernelspec": {
      "name": "python",
      "display_name": "Pyolite",
      "language": "python"
    }
  },
  "nbformat_minor": 4,
  "nbformat": 4,
  "cells": [
    {
      "cell_type": "markdown",
      "source": "<h1>My Jupyter Notebook on IBM Watson Studio</h1>",
      "metadata": {}
    },
    {
      "cell_type": "markdown",
      "source": "<b>Bhagyashree More</b>\n    <p> Occupation - Student</p>",
      "metadata": {}
    },
    {
      "cell_type": "markdown",
      "source": "<i>I am interested in data science because A new field of study, data science draws on business, statistics, and computer science. It’s about how to derive insights from raw data and turn it into actionable, predictive information. Technologies like Hadoop, R, SAS, MySQL, Apache Pig, Hive, Mahout, etc. are the tools that provide insights into the data gathered. You can also learn this topic with a specialized domain. </i>",
      "metadata": {}
    },
    {
      "cell_type": "markdown",
      "source": "<h3>Add Two Number</h3>\n",
      "metadata": {}
    },
    {
      "cell_type": "code",
      "source": "num1 = 6\nnum2 = 5\n\nsum = num1 + num2\nprint('The sum of {0} and {1} is {2}'.format(num1, num2, sum))",
      "metadata": {
        "trusted": true
      },
      "execution_count": 1,
      "outputs": [
        {
          "name": "stdout",
          "text": "The sum of 6 and 5 is 11\n",
          "output_type": "stream"
        }
      ]
    },
    {
      "cell_type": "markdown",
      "source": "<b>Bullet List</b>\nprogramming languages\n* java\n* python\n* R\n",
      "metadata": {}
    },
    {
      "cell_type": "markdown",
      "source": "<b>Number List</b>\n1. Baked potato\n2. Baked beans\n3. Pepper",
      "metadata": {}
    },
    {
      "cell_type": "markdown",
      "source": "<b>Quote</b>\n> One thing was certain, that the white kitten had had nothing\n> to do with it -- it was the black kitten's fault entirely. For\n> the white kitten had been having its face washed by the old cat,\n> for the last quarter of an hour (and bearing it pretty well,\n> considering) so you see that it couldn't have had any hand in\n> the mischief. <cite>Lewis Carroll, Through the Looking\n> Glass</cite>",
      "metadata": {}
    },
    {
      "cell_type": "markdown",
      "source": "<b>Link</b>\n[google](https://www.google.com/webhp?hl=en&sa=X&ved=0ahUKEwjU4rXDsZb5AhVzcGwGHQtbBfkQPAgI)",
      "metadata": {}
    },
    {
      "cell_type": "markdown",
      "source": "**Horizantal Line**\n\n***",
      "metadata": {}
    },
    {
      "cell_type": "markdown",
      "source": "<img src=\"golden-retriever.jpg\" alt=\"Alt text that describes the graphic\" title=\"Title text\" />",
      "metadata": {}
    },
    {
      "cell_type": "code",
      "source": "",
      "metadata": {},
      "execution_count": null,
      "outputs": []
    }
  ]
}